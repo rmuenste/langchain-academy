{
 "cells": [
  {
   "cell_type": "code",
   "execution_count": 2,
   "metadata": {},
   "outputs": [],
   "source": [
    "from langchain_openai import ChatOpenAI\n",
    "llm = ChatOpenAI(model=\"gpt-4o\", temperature=0)"
   ]
  },
  {
   "cell_type": "code",
   "execution_count": 7,
   "metadata": {},
   "outputs": [],
   "source": [
    "from typing import List\n",
    "from typing_extensions import TypedDict\n",
    "from pydantic import BaseModel, Field\n",
    "\n",
    "class Analyst(BaseModel):\n",
    "    affiliation: str = Field(\n",
    "        description=\"Primary affiliation of the analyst.\"\n",
    "    )\n",
    "    name: str = Field(\n",
    "        description=\"Name of the analyst.\"\n",
    "    )\n",
    "    role: str = Field(\n",
    "        description=\"Role of the analyst in the context of the topic.\"\n",
    "    )\n",
    "    description: str = Field(\n",
    "        description=\"Description of the analyst focus, concerns, and motives.\"\n",
    "    )\n",
    "    @property\n",
    "    def persona(self) -> str:\n",
    "        return f\"Name: {self.name}\\n Role: {self.role}\\nAffiliation: {self.affiliation}\\nDescription: {self.description}\\n\"\n",
    "\n",
    "class Perspectives(BaseModel):\n",
    "    analysts: List[Analyst] = Field(\n",
    "        description=\"Comprehensive list of analysts with their roles and affiliation.\"\n",
    "    )\n",
    "\n",
    "class GenerateAnalystsState(TypedDict):\n",
    "    topic: str # Research topic\n",
    "    max_analysts: int # Number of analysts\n",
    "    human_analyst_feedback: str # Human feedback\n",
    "    analysts: List[Analyst] # Analyst asking question\n"
   ]
  },
  {
   "cell_type": "code",
   "execution_count": 8,
   "metadata": {},
   "outputs": [
    {
     "data": {
      "image/jpeg": "[encoded data removed]",
      "text/plain": [
       "<IPython.core.display.Image object>"
      ]
     },
     "metadata": {},
     "output_type": "display_data"
    }
   ],
   "source": [
    "from IPython.display import Image, display\n",
    "from langgraph.graph import START, END, StateGraph\n",
    "from langgraph.checkpoint.memory import MemorySaver\n",
    "from langchain_core.messages import AIMessage, HumanMessage, SystemMessage\n",
    "\n",
    "analyst_instructions=\"\"\"You are tasked with creating a set of AI analyst personas. Follow these instructions carefully:\n",
    "\n",
    "1. First, review the research topic:\n",
    "{topic}\n",
    "        \n",
    "2. Examine any editorial feedback that has been optionally provided to guide creation of the analysts: \n",
    "        \n",
    "{human_analyst_feedback}\n",
    "    \n",
    "3. Determine the most interesting themes based upon documents and / or feedback above.\n",
    "                    \n",
    "4. Pick the top {max_analysts} themes.\n",
    "\n",
    "5. Assign one analyst to each theme.\"\"\"\n",
    "\n",
    "def create_analysts(state: GenerateAnalystsState):\n",
    "\n",
    "    \"\"\" Create analysts \"\"\"\n",
    "\n",
    "    topic=state['topic']\n",
    "    max_analysts = state['max_analysts']\n",
    "    human_analyst_feedback = state.get('human_analyst_feedback', '')\n",
    "\n",
    "    # Enforce structured output\n",
    "    structured_llm = llm.with_structured_output(Perspectives)\n",
    "\n",
    "    # System message\n",
    "    system_message = analyst_instructions.format(topic=topic,\n",
    "                                                 human_analyst_feedback=human_analyst_feedback,\n",
    "                                                 max_analysts=max_analysts \n",
    "                                                )\n",
    "    \n",
    "    # Generate question\n",
    "    analysts = structured_llm.invoke(\n",
    "        [SystemMessage(content=system_message)] + \n",
    "        [HumanMessage(content=\"Generate the set of analysts.\")]\n",
    "        )\n",
    "\n",
    "    return {\"analysts\": analysts.analysts}\n",
    "\n",
    "def human_feedback(state: GenerateAnalystsState):\n",
    "    \"\"\" No-op node that should be interrupted on \"\"\"\n",
    "    pass\n",
    "\n",
    "def should_continue(state: GenerateAnalystsState):\n",
    "    \"\"\" Return the next node to execute \"\"\"\n",
    "\n",
    "    # Check if human feedback\n",
    "    human_analyst_feedback=state.get('human_analyst_feedback', None)\n",
    "    if human_analyst_feedback:\n",
    "        return \"create_analysts\"\n",
    "\n",
    "    # Otherwise end\n",
    "    return END\n",
    "\n",
    "# Add nodes and edges \n",
    "builder = StateGraph(GenerateAnalystsState)\n",
    "builder.add_node(\"create_analysts\", create_analysts)\n",
    "builder.add_node(\"human_feedback\", human_feedback)\n",
    "builder.add_edge(START, \"create_analysts\")\n",
    "builder.add_edge(\"create_analysts\", \"human_feedback\")\n",
    "builder.add_conditional_edges(\"human_feedback\", should_continue, [\"create_analysts\", END])\n",
    "\n",
    "# Compile\n",
    "memory = MemorySaver()\n",
    "graph = builder.compile(interrupt_before=['human_feedback'], checkpointer=memory)\n",
    "\n",
    "# View\n",
    "display(Image(graph.get_graph(xray=1).draw_mermaid_png()))\n",
    "\n"
   ]
  },
  {
   "cell_type": "code",
   "execution_count": 9,
   "metadata": {},
   "outputs": [
    {
     "name": "stdout",
     "output_type": "stream",
     "text": [
      "Name: Dr. Emily Carter\n",
      "Affiliation: Tech Innovators Inc.\n",
      "Role: Technology Adoption Specialist\n",
      "Description: Dr. Carter focuses on the strategic benefits of adopting new technologies like LangGraph. She is particularly interested in how such frameworks can enhance operational efficiency and drive innovation within organizations.\n",
      "--------------------------------------------------\n",
      "Name: Mr. John Smith\n",
      "Affiliation: Data Security Solutions\n",
      "Role: Data Security Analyst\n",
      "Description: Mr. Smith is concerned with the security implications of adopting new frameworks. His focus is on ensuring that LangGraph can be integrated without compromising data integrity and security.\n",
      "--------------------------------------------------\n",
      "Name: Dr. Sarah Lee\n",
      "Affiliation: AI Ethics Consortium\n",
      "Role: Ethical AI Advocate\n",
      "Description: Dr. Lee examines the ethical considerations of implementing AI frameworks like LangGraph. She is dedicated to ensuring that the adoption of such technologies aligns with ethical standards and promotes fair use.\n",
      "--------------------------------------------------\n"
     ]
    }
   ],
   "source": [
    "# Input\n",
    "max_analysts = 3\n",
    "topic = \"The benefits of adopting LangGraph as an agent framework\"\n",
    "thread = {\"configurable\": {\"thread_id\": \"1\"}}\n",
    "\n",
    "# Run the graph until the first interruption\n",
    "for event in graph.stream({\"topic\": topic, \"max_analysts\": max_analysts}, thread, stream_mode=\"values\"):\n",
    "    # Review\n",
    "    analysts = event.get('analysts', '')\n",
    "    if analysts:\n",
    "        for analyst in analysts:\n",
    "            print(f\"Name: {analyst.name}\")\n",
    "            print(f\"Affiliation: {analyst.affiliation}\")\n",
    "            print(f\"Role: {analyst.role}\")\n",
    "            print(f\"Description: {analyst.description}\")\n",
    "            print(\"-\" * 50)  "
   ]
  },
  {
   "cell_type": "code",
   "execution_count": 12,
   "metadata": {},
   "outputs": [
    {
     "name": "stdout",
     "output_type": "stream",
     "text": [
      "StateSnapshot(values={'topic': 'The benefits of adopting LangGraph as an agent framework', 'max_analysts': 3, 'analysts': [Analyst(affiliation='Tech Innovators Inc.', name='Dr. Emily Carter', role='Technology Adoption Specialist', description='Dr. Carter focuses on the strategic benefits of adopting new technologies like LangGraph. She is particularly interested in how such frameworks can enhance operational efficiency and drive innovation within organizations.'), Analyst(affiliation='Data Security Solutions', name='Mr. John Smith', role='Data Security Analyst', description='Mr. Smith is concerned with the security implications of adopting new frameworks. His focus is on ensuring that LangGraph can be integrated without compromising data integrity and security.'), Analyst(affiliation='AI Ethics Consortium', name='Dr. Sarah Lee', role='Ethical AI Advocate', description='Dr. Lee examines the ethical considerations of implementing AI frameworks like LangGraph. She is dedicated to ensuring that the adoption of such technologies aligns with ethical standards and promotes fair use.')]}, next=('human_feedback',), config={'configurable': {'thread_id': '1', 'checkpoint_ns': '', 'checkpoint_id': '1efea138-9f7e-6c9a-8001-57f10070dae8'}}, metadata={'source': 'loop', 'writes': {'create_analysts': {'analysts': [Analyst(affiliation='Tech Innovators Inc.', name='Dr. Emily Carter', role='Technology Adoption Specialist', description='Dr. Carter focuses on the strategic benefits of adopting new technologies like LangGraph. She is particularly interested in how such frameworks can enhance operational efficiency and drive innovation within organizations.'), Analyst(affiliation='Data Security Solutions', name='Mr. John Smith', role='Data Security Analyst', description='Mr. Smith is concerned with the security implications of adopting new frameworks. His focus is on ensuring that LangGraph can be integrated without compromising data integrity and security.'), Analyst(affiliation='AI Ethics Consortium', name='Dr. Sarah Lee', role='Ethical AI Advocate', description='Dr. Lee examines the ethical considerations of implementing AI frameworks like LangGraph. She is dedicated to ensuring that the adoption of such technologies aligns with ethical standards and promotes fair use.')]}}, 'step': 1, 'parents': {}}, created_at='2025-02-13T14:05:11.177918+00:00', parent_config={'configurable': {'thread_id': '1', 'checkpoint_ns': '', 'checkpoint_id': '1efea138-7461-69da-8000-4aeb41eab5c4'}}, tasks=(PregelTask(id='d4882272-4de1-827d-4245-1354504770e4', name='human_feedback', path=('__pregel_pull', 'human_feedback'), error=None, interrupts=(), state=None),))\n",
      "('human_feedback',)\n"
     ]
    }
   ],
   "source": [
    "# Examine the state\n",
    "state = graph.get_state(thread)\n",
    "print(state)\n",
    "print(state.next)"
   ]
  },
  {
   "cell_type": "code",
   "execution_count": 14,
   "metadata": {},
   "outputs": [
    {
     "name": "stdout",
     "output_type": "stream",
     "text": [
      "{'configurable': {'thread_id': '1', 'checkpoint_ns': '', 'checkpoint_id': '1efea141-e6f7-6994-8003-679b644276e2'}}\n"
     ]
    }
   ],
   "source": [
    "# Update the state with human feedback. This is the human_feedback 'node'\n",
    "value = graph.update_state(thread, {\"human_analyst_feedback\": \n",
    "                            \"Add in someone from a startup to add an entrepreneur perspective\"}, as_node=\"human_feedback\")\n",
    "print(value)"
   ]
  },
  {
   "cell_type": "code",
   "execution_count": 15,
   "metadata": {},
   "outputs": [
    {
     "name": "stdout",
     "output_type": "stream",
     "text": [
      "Name: Dr. Emily Carter\n",
      "Affiliation: Tech Innovators Inc.\n",
      "Role: Technology Adoption Specialist\n",
      "Description: Dr. Carter focuses on the strategic benefits of adopting new technologies like LangGraph. She is particularly interested in how such frameworks can enhance operational efficiency and drive innovation within organizations.\n",
      "--------------------------------------------------\n",
      "Name: Mr. John Smith\n",
      "Affiliation: Data Security Solutions\n",
      "Role: Data Security Analyst\n",
      "Description: Mr. Smith is concerned with the security implications of adopting new frameworks. His focus is on ensuring that LangGraph can be integrated without compromising data integrity and security.\n",
      "--------------------------------------------------\n",
      "Name: Dr. Sarah Lee\n",
      "Affiliation: AI Ethics Consortium\n",
      "Role: Ethical AI Advocate\n",
      "Description: Dr. Lee examines the ethical considerations of implementing AI frameworks like LangGraph. She is dedicated to ensuring that the adoption of such technologies aligns with ethical standards and promotes fair use.\n",
      "--------------------------------------------------\n",
      "Name: Alex Johnson\n",
      "Affiliation: Tech Startup\n",
      "Role: Entrepreneur\n",
      "Description: Alex is a co-founder of a tech startup that focuses on developing innovative AI solutions. He is interested in how adopting LangGraph can streamline development processes, reduce costs, and enhance product scalability. His primary concern is ensuring that the framework can integrate seamlessly with existing systems and support rapid iteration.\n",
      "--------------------------------------------------\n",
      "Name: Dr. Emily Chen\n",
      "Affiliation: Academic Institution\n",
      "Role: Researcher\n",
      "Description: Dr. Chen is a leading researcher in AI frameworks and their applications. Her focus is on the theoretical benefits of LangGraph, such as its ability to improve computational efficiency and facilitate complex problem-solving. She is motivated by the potential for LangGraph to advance academic research and contribute to the broader AI community.\n",
      "--------------------------------------------------\n",
      "Name: Michael Thompson\n",
      "Affiliation: Large Tech Corporation\n",
      "Role: Industry Expert\n",
      "Description: Michael is a senior engineer at a large tech corporation, specializing in AI infrastructure. He is interested in the practical benefits of LangGraph, such as its impact on system performance and reliability. His concerns include the framework's scalability and its ability to handle large-scale deployments in a corporate environment.\n",
      "--------------------------------------------------\n"
     ]
    }
   ],
   "source": [
    "# Continue the graph execution from the human_feedback\n",
    "for event in graph.stream(None, thread, stream_mode=\"values\"):\n",
    "    # Review\n",
    "    analysts = event.get('analysts', '')\n",
    "    if analysts:\n",
    "        for analyst in analysts:\n",
    "            print(f\"Name: {analyst.name}\")\n",
    "            print(f\"Affiliation: {analyst.affiliation}\")\n",
    "            print(f\"Role: {analyst.role}\")\n",
    "            print(f\"Description: {analyst.description}\")\n",
    "            print(\"-\" * 50) \n",
    "\n",
    "\n",
    "\n",
    "\n",
    "\n"
   ]
  },
  {
   "cell_type": "code",
   "execution_count": 16,
   "metadata": {},
   "outputs": [
    {
     "data": {
      "text/plain": [
       "{'configurable': {'thread_id': '1',\n",
       "  'checkpoint_ns': '',\n",
       "  'checkpoint_id': '1efea14a-f7bd-6ddc-8005-f3a939c00ea2'}}"
      ]
     },
     "execution_count": 16,
     "metadata": {},
     "output_type": "execute_result"
    }
   ],
   "source": [
    "# If we are satisfied, then we simply do not supply feeback and let \n",
    "# the graph execution progress to the END node\n",
    "further_feedback = None\n",
    "graph.update_state(thread, {\"human_analyst_feedback\":\n",
    "                            further_feedback}, as_node=\"human_feedback\")"
   ]
  },
  {
   "cell_type": "code",
   "execution_count": 17,
   "metadata": {},
   "outputs": [
    {
     "name": "stdout",
     "output_type": "stream",
     "text": [
      "--Node--\n",
      "topic\n"
     ]
    }
   ],
   "source": [
    "for event in graph.stream(None, thread, stream_mode=\"values\"):\n",
    "    print(\"--Node--\")\n",
    "    node_name = next(iter(event.keys()))\n",
    "    print(node_name)"
   ]
  },
  {
   "cell_type": "code",
   "execution_count": 20,
   "metadata": {},
   "outputs": [
    {
     "name": "stdout",
     "output_type": "stream",
     "text": [
      "StateSnapshot(values={'topic': 'The benefits of adopting LangGraph as an agent framework', 'max_analysts': 3, 'analysts': [Analyst(affiliation='Tech Startup', name='Alex Johnson', role='Entrepreneur', description='Alex is a co-founder of a tech startup that focuses on developing innovative AI solutions. He is interested in how adopting LangGraph can streamline development processes, reduce costs, and enhance product scalability. His primary concern is ensuring that the framework can integrate seamlessly with existing systems and support rapid iteration.'), Analyst(affiliation='Academic Institution', name='Dr. Emily Chen', role='Researcher', description='Dr. Chen is a leading researcher in AI frameworks and their applications. Her focus is on the theoretical benefits of LangGraph, such as its ability to improve computational efficiency and facilitate complex problem-solving. She is motivated by the potential for LangGraph to advance academic research and contribute to the broader AI community.'), Analyst(affiliation='Large Tech Corporation', name='Michael Thompson', role='Industry Expert', description=\"Michael is a senior engineer at a large tech corporation, specializing in AI infrastructure. He is interested in the practical benefits of LangGraph, such as its impact on system performance and reliability. His concerns include the framework's scalability and its ability to handle large-scale deployments in a corporate environment.\")]}, next=(), config={'configurable': {'thread_id': '1', 'checkpoint_ns': '', 'checkpoint_id': '1efea14a-f7bd-6ddc-8005-f3a939c00ea2'}}, metadata={'source': 'update', 'step': 5, 'writes': {'human_feedback': {'human_analyst_feedback': None}}, 'parents': {}}, created_at='2025-02-13T14:13:23.615048+00:00', parent_config={'configurable': {'thread_id': '1', 'checkpoint_ns': '', 'checkpoint_id': '1efea146-4b14-6556-8004-b7dacf59063f'}}, tasks=())\n",
      "[Analyst(affiliation='Tech Startup', name='Alex Johnson', role='Entrepreneur', description='Alex is a co-founder of a tech startup that focuses on developing innovative AI solutions. He is interested in how adopting LangGraph can streamline development processes, reduce costs, and enhance product scalability. His primary concern is ensuring that the framework can integrate seamlessly with existing systems and support rapid iteration.'), Analyst(affiliation='Academic Institution', name='Dr. Emily Chen', role='Researcher', description='Dr. Chen is a leading researcher in AI frameworks and their applications. Her focus is on the theoretical benefits of LangGraph, such as its ability to improve computational efficiency and facilitate complex problem-solving. She is motivated by the potential for LangGraph to advance academic research and contribute to the broader AI community.'), Analyst(affiliation='Large Tech Corporation', name='Michael Thompson', role='Industry Expert', description=\"Michael is a senior engineer at a large tech corporation, specializing in AI infrastructure. He is interested in the practical benefits of LangGraph, such as its impact on system performance and reliability. His concerns include the framework's scalability and its ability to handle large-scale deployments in a corporate environment.\")]\n"
     ]
    }
   ],
   "source": [
    "final_state = graph.get_state(thread)\n",
    "print(final_state)\n",
    "analysts = final_state.values.get('analysts')\n",
    "print(analysts)"
   ]
  },
  {
   "cell_type": "code",
   "execution_count": 21,
   "metadata": {},
   "outputs": [
    {
     "name": "stdout",
     "output_type": "stream",
     "text": [
      "Name: Alex Johnson\n",
      "Affiliation: Tech Startup\n",
      "Role: Entrepreneur\n",
      "Description: Alex is a co-founder of a tech startup that focuses on developing innovative AI solutions. He is interested in how adopting LangGraph can streamline development processes, reduce costs, and enhance product scalability. His primary concern is ensuring that the framework can integrate seamlessly with existing systems and support rapid iteration.\n",
      "--------------------------------------------------\n",
      "Name: Dr. Emily Chen\n",
      "Affiliation: Academic Institution\n",
      "Role: Researcher\n",
      "Description: Dr. Chen is a leading researcher in AI frameworks and their applications. Her focus is on the theoretical benefits of LangGraph, such as its ability to improve computational efficiency and facilitate complex problem-solving. She is motivated by the potential for LangGraph to advance academic research and contribute to the broader AI community.\n",
      "--------------------------------------------------\n",
      "Name: Michael Thompson\n",
      "Affiliation: Large Tech Corporation\n",
      "Role: Industry Expert\n",
      "Description: Michael is a senior engineer at a large tech corporation, specializing in AI infrastructure. He is interested in the practical benefits of LangGraph, such as its impact on system performance and reliability. His concerns include the framework's scalability and its ability to handle large-scale deployments in a corporate environment.\n",
      "--------------------------------------------------\n"
     ]
    }
   ],
   "source": [
    "\n",
    "for analyst in analysts:\n",
    "    print(f\"Name: {analyst.name}\")\n",
    "    print(f\"Affiliation: {analyst.affiliation}\")\n",
    "    print(f\"Role: {analyst.role}\")\n",
    "    print(f\"Description: {analyst.description}\")\n",
    "    print(\"-\" * 50) "
   ]
  }
 ],
 "metadata": {
  "kernelspec": {
   "display_name": "lc-academy-env",
   "language": "python",
   "name": "python3"
  },
  "language_info": {
   "codemirror_mode": {
    "name": "ipython",
    "version": 3
   },
   "file_extension": ".py",
   "mimetype": "text/x-python",
   "name": "python",
   "nbconvert_exporter": "python",
   "pygments_lexer": "ipython3",
   "version": "3.10.12"
  }
 },
 "nbformat": 4,
 "nbformat_minor": 2
}
