{
 "cells": [
  {
   "cell_type": "code",
   "execution_count": 1,
   "metadata": {},
   "outputs": [],
   "source": [
    "from typing import Literal\n",
    "from typing_extensions import TypedDict\n",
    "\n",
    "# Can catch potential mismatches\n",
    "class TypedDictState1(TypedDict):\n",
    "    foo: str\n",
    "    bar: str\n",
    "\n",
    "class TypedDictState2(TypedDict):\n",
    "    name: str\n",
    "    mood: Literal[\"happy\", \"sad\"]"
   ]
  },
  {
   "cell_type": "code",
   "execution_count": 4,
   "metadata": {},
   "outputs": [],
   "source": [
    "from dataclasses import dataclass\n",
    "\n",
    "@dataclass\n",
    "class DataclassState:\n",
    "    name: str\n",
    "    mood: Literal[\"happy\", \"sad\"]\n",
    "\n",
    "instance = DataclassState(name=\"Lance\", mood=\"sad\")"
   ]
  },
  {
   "cell_type": "code",
   "execution_count": 5,
   "metadata": {},
   "outputs": [
    {
     "name": "stdout",
     "output_type": "stream",
     "text": [
      "Validation Error:  1 validation error for PydanticState\n",
      "mood\n",
      "  Value error, Each mood must be either 'happy' or 'sad' [type=value_error, input_value='mad', input_type=str]\n",
      "    For further information visit https://errors.pydantic.dev/2.9/v/value_error\n"
     ]
    }
   ],
   "source": [
    "from pydantic import BaseModel, field_validator, ValidationError\n",
    "\n",
    "class PydanticState(BaseModel):\n",
    "    name: str\n",
    "    mood: str # can be \"happy\" or \"sad\"\n",
    "\n",
    "    @field_validator('mood')\n",
    "    @classmethod\n",
    "    def validate_mood(cls, value):\n",
    "        # Ensure the mood is \"happy\" or \"sad\"\n",
    "        if value not in [\"happy\", \"sad\"]:\n",
    "            raise ValueError(\"Each mood must be either 'happy' or 'sad'\")\n",
    "        raise value\n",
    "\n",
    "try:\n",
    "    state = PydanticState(name=\"John Doe\", mood=\"mad\")\n",
    "except ValidationError as e:\n",
    "    print(\"Validation Error: \", e)"
   ]
  }
 ],
 "metadata": {
  "kernelspec": {
   "display_name": "lc-academy-env",
   "language": "python",
   "name": "python3"
  },
  "language_info": {
   "codemirror_mode": {
    "name": "ipython",
    "version": 3
   },
   "file_extension": ".py",
   "mimetype": "text/x-python",
   "name": "python",
   "nbconvert_exporter": "python",
   "pygments_lexer": "ipython3",
   "version": "3.10.12"
  }
 },
 "nbformat": 4,
 "nbformat_minor": 2
}
